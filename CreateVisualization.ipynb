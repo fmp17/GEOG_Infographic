{
 "cells": [
  {
   "attachments": {},
   "cell_type": "markdown",
   "metadata": {},
   "source": [
    "# Installs"
   ]
  },
  {
   "cell_type": "code",
   "execution_count": 1,
   "metadata": {},
   "outputs": [],
   "source": [
    "# pip install pillow\n",
    "# pip install altair vega_datasets"
   ]
  },
  {
   "cell_type": "markdown",
   "metadata": {
    "id": "lYw9gzibTIi4"
   },
   "source": [
    "# Import Libraries"
   ]
  },
  {
   "cell_type": "code",
   "execution_count": 2,
   "metadata": {
    "id": "9IAzzz_VTSQB"
   },
   "outputs": [],
   "source": [
    "from PIL import Image, ImageColor\n",
    "import numpy as np\n",
    "import pandas as pd\n",
    "import matplotlib.pyplot as plt\n",
    "import altair as alt"
   ]
  },
  {
   "attachments": {},
   "cell_type": "markdown",
   "metadata": {
    "id": "clFFyFm2UdFo"
   },
   "source": [
    "# Process Photos Function"
   ]
  },
  {
   "cell_type": "code",
   "execution_count": 3,
   "metadata": {},
   "outputs": [],
   "source": [
    "def process_photo(id1):\n",
    "    # Open unprocessed photo\n",
    "    im = Image.open(\"Unprocessed/IMG_\" + id1 + \".JPG\").resize((300, 300))\n",
    "\n",
    "    # Classify image in 10 most dominant colors\n",
    "    result = im.convert('P', palette=Image.ADAPTIVE, colors=10)\n",
    "\n",
    "    # Save the result photo\n",
    "    result.save('Processed/IMG_' + id1 + '_processed.png')"
   ]
  },
  {
   "attachments": {},
   "cell_type": "markdown",
   "metadata": {},
   "source": [
    "# Apply Process Photos Function"
   ]
  },
  {
   "cell_type": "code",
   "execution_count": 4,
   "metadata": {},
   "outputs": [],
   "source": [
    "for x in range(30):\n",
    "    x = x + 1\n",
    "    process_photo(str(x))"
   ]
  },
  {
   "attachments": {},
   "cell_type": "markdown",
   "metadata": {
    "id": "UZNrCPggTxzA"
   },
   "source": [
    "# Define rgb_to_hex Function"
   ]
  },
  {
   "cell_type": "code",
   "execution_count": 5,
   "metadata": {
    "id": "86WR9iPETUi5"
   },
   "outputs": [],
   "source": [
    "def rgb_to_hex(rgb):\n",
    "  return('{:X}{:X}{:X}').format(rgb[0], rgb[1], rgb[2])"
   ]
  },
  {
   "attachments": {},
   "cell_type": "markdown",
   "metadata": {
    "id": "0pGL6UiiUJS3"
   },
   "source": [
    "# Define get_date_taken Function"
   ]
  },
  {
   "cell_type": "code",
   "execution_count": 6,
   "metadata": {
    "id": "knLpTP81UFFV"
   },
   "outputs": [],
   "source": [
    "\n",
    "def get_date_taken(path):\n",
    "    return Image.open(path)._getexif()[36867]"
   ]
  },
  {
   "attachments": {},
   "cell_type": "markdown",
   "metadata": {
    "id": "VIrgGh7sUU9m"
   },
   "source": [
    "# Encapsulating Function"
   ]
  },
  {
   "cell_type": "code",
   "execution_count": 7,
   "metadata": {
    "id": "GocbsXuKUXpF"
   },
   "outputs": [],
   "source": [
    "def calculate_df(id2):\n",
    "  # Open photo\n",
    "  path_im2 = 'Processed/IMG_' + str(id2) + '_processed.png'\n",
    "  im2 = Image.open(path_im2).resize((300,300))\n",
    "\n",
    "  # Convert photo to RGB and make into Numpy array\n",
    "  na = np.array(im2.convert('RGB')) \n",
    "\n",
    "  # Get used colours and counts of each\n",
    "  colours, counts = np.unique(na.reshape(-1,3), axis=0, return_counts=1)\n",
    "\n",
    "  # Calculate my hex\n",
    "  myhex = []\n",
    "  for i in colours:\n",
    "    data = '#' + str(rgb_to_hex(i))\n",
    "    myhex.append(data)\n",
    "\n",
    "  # Total pixel count\n",
    "  totalpixel = sum(counts)\n",
    "\n",
    "  # Calculate date time\n",
    "  path_im1 = 'Unprocessed/IMG_' + str(id2) + '.JPG'\n",
    "  datetimetaken = get_date_taken(path_im1)\n",
    "\n",
    "  # Create empty df\n",
    "  df = pd.DataFrame(columns=['id', 'datetime', 'colorhex', 'numpixel', 'percentage'],\n",
    "                   index=[0,1,2,3,4,5,6,7,8,9])\n",
    "  \n",
    "  # Fill df\n",
    "  df['id']=id2\n",
    "  df['datetime']=datetimetaken\n",
    "  df['colorhex']=myhex\n",
    "  df['numpixel']=counts\n",
    "  df['percentage']=(counts/totalpixel)*100\n",
    "\n",
    "  # Return df\n",
    "  return df"
   ]
  },
  {
   "attachments": {},
   "cell_type": "markdown",
   "metadata": {},
   "source": [
    "# Apply Encapsulating Function"
   ]
  },
  {
   "cell_type": "code",
   "execution_count": 8,
   "metadata": {
    "colab": {
     "base_uri": "https://localhost:8080/",
     "height": 375
    },
    "executionInfo": {
     "elapsed": 306,
     "status": "error",
     "timestamp": 1645127447611,
     "user": {
      "displayName": "Kylee Hoffman",
      "photoUrl": "https://lh3.googleusercontent.com/a-/AOh14GjRZHS9eSYAGzbQTCoJFpOjJ_0favN7wfl_UWgz=s64",
      "userId": "15852046731219945391"
     },
     "user_tz": 480
    },
    "id": "1b1z8DVGUbCR",
    "outputId": "3bc83356-f6a0-494a-f2bb-a5593697ab0e"
   },
   "outputs": [],
   "source": [
    "# Day 1\n",
    "df1 = calculate_df(1)\n",
    "df2 = calculate_df(2)\n",
    "df3 = calculate_df(3)\n",
    "df4 = calculate_df(4)\n",
    "df5 = calculate_df(5)\n",
    "df6 = calculate_df(6)\n",
    "df7 = calculate_df(7)\n",
    "df8 = calculate_df(8)\n",
    "df9 = calculate_df(9)\n",
    "df10 = calculate_df(10)\n",
    "\n",
    "# Day 2\n",
    "df11 = calculate_df(11)\n",
    "df12 = calculate_df(12)\n",
    "df13 = calculate_df(13)\n",
    "df14 = calculate_df(14)\n",
    "df15 = calculate_df(15)\n",
    "df16 = calculate_df(16)\n",
    "df17 = calculate_df(17)\n",
    "df18 = calculate_df(18)\n",
    "df19 = calculate_df(19)\n",
    "df20 = calculate_df(20)\n",
    "\n",
    "# Day 3\n",
    "df21 = calculate_df(21)\n",
    "df22 = calculate_df(22)\n",
    "df23 = calculate_df(23)\n",
    "df24 = calculate_df(24)\n",
    "df25 = calculate_df(25)\n",
    "df26 = calculate_df(26)\n",
    "df27 = calculate_df(27)\n",
    "df28 = calculate_df(28)\n",
    "df29 = calculate_df(29)\n",
    "df30 = calculate_df(30)"
   ]
  },
  {
   "attachments": {},
   "cell_type": "markdown",
   "metadata": {
    "id": "6bYt0in7UjKr"
   },
   "source": [
    "# Concatenate Data Frames"
   ]
  },
  {
   "cell_type": "code",
   "execution_count": 9,
   "metadata": {
    "colab": {
     "base_uri": "https://localhost:8080/",
     "height": 423
    },
    "executionInfo": {
     "elapsed": 283,
     "status": "ok",
     "timestamp": 1644959066351,
     "user": {
      "displayName": "Francisco M Paillot",
      "photoUrl": "https://lh3.googleusercontent.com/a/default-user=s64",
      "userId": "07286011159268090335"
     },
     "user_tz": 480
    },
    "id": "USyLGvgAVYbN",
    "outputId": "b74435d2-c4b2-4ec6-c54d-750b83d6ef60"
   },
   "outputs": [
    {
     "name": "stdout",
     "output_type": "stream",
     "text": [
      "    id             datetime colorhex  numpixel  percentage\n",
      "0    1  2022:02:08 16:42:20  #B9BCBC      7035    7.816667\n",
      "1    1  2022:02:08 16:42:20  #BFC3C6     10975   12.194444\n",
      "2    1  2022:02:08 16:42:20  #CBCCC9     13707   15.230000\n",
      "3    1  2022:02:08 16:42:20  #CCC2B4     12656   14.062222\n",
      "4    1  2022:02:08 16:42:20  #CFC7BD      7510    8.344444\n",
      "..  ..                  ...      ...       ...         ...\n",
      "5   30  2022:02:10 17:40:43  #9BA0A4     11951   13.278889\n",
      "6   30  2022:02:10 17:40:43  #9FA3A7     11406   12.673333\n",
      "7   30  2022:02:10 17:40:43  #A5AAAE      6976    7.751111\n",
      "8   30  2022:02:10 17:40:43  #A8AEB3      9488   10.542222\n",
      "9   30  2022:02:10 17:40:43  #AEB1B5      6069    6.743333\n",
      "\n",
      "[300 rows x 5 columns]\n"
     ]
    }
   ],
   "source": [
    "frames = [df1, df2, df3, df4, df5, df6, df7, df8, df9, df10, df11, df12, df13, \n",
    "          df14, df15, df16, df17, df18, df19, df20, df21, df22, df23, df24, \n",
    "          df25, df26, df27, df28, df29, df30]\n",
    "  \n",
    "result = pd.concat(frames)\n",
    "print(result)"
   ]
  },
  {
   "attachments": {},
   "cell_type": "markdown",
   "metadata": {
    "id": "s0XSG6YWKx3z"
   },
   "source": [
    "# Convert and Export CSV"
   ]
  },
  {
   "cell_type": "code",
   "execution_count": 10,
   "metadata": {
    "colab": {
     "base_uri": "https://localhost:8080/",
     "height": 17
    },
    "executionInfo": {
     "elapsed": 260,
     "status": "ok",
     "timestamp": 1644959069755,
     "user": {
      "displayName": "Francisco M Paillot",
      "photoUrl": "https://lh3.googleusercontent.com/a/default-user=s64",
      "userId": "07286011159268090335"
     },
     "user_tz": 480
    },
    "id": "truMp7g_Kzhp",
    "outputId": "536e2262-6295-4400-f0a2-5b198d8ac61f"
   },
   "outputs": [],
   "source": [
    "result_project = result.to_csv()\n",
    "\n",
    "with open ('result_project.csv', 'w') as f:\n",
    "     f.write(result_project)"
   ]
  },
  {
   "attachments": {},
   "cell_type": "markdown",
   "metadata": {},
   "source": [
    "# Import CSV"
   ]
  },
  {
   "cell_type": "code",
   "execution_count": 11,
   "metadata": {},
   "outputs": [
    {
     "name": "stdout",
     "output_type": "stream",
     "text": [
      "     Unnamed: 0  id             datetime colorhex  numpixel  percentage\n",
      "0             0   1  2022:02:08 16:42:20  #B9BCBC      7035    7.816667\n",
      "1             1   1  2022:02:08 16:42:20  #BFC3C6     10975   12.194444\n",
      "2             2   1  2022:02:08 16:42:20  #CBCCC9     13707   15.230000\n",
      "3             3   1  2022:02:08 16:42:20  #CCC2B4     12656   14.062222\n",
      "4             4   1  2022:02:08 16:42:20  #CFC7BD      7510    8.344444\n",
      "..          ...  ..                  ...      ...       ...         ...\n",
      "295           5  30  2022:02:10 17:40:43  #9BA0A4     11951   13.278889\n",
      "296           6  30  2022:02:10 17:40:43  #9FA3A7     11406   12.673333\n",
      "297           7  30  2022:02:10 17:40:43  #A5AAAE      6976    7.751111\n",
      "298           8  30  2022:02:10 17:40:43  #A8AEB3      9488   10.542222\n",
      "299           9  30  2022:02:10 17:40:43  #AEB1B5      6069    6.743333\n",
      "\n",
      "[300 rows x 6 columns]\n"
     ]
    }
   ],
   "source": [
    "df1 = pd.read_csv('result_project.csv')\n",
    "print(df1)"
   ]
  },
  {
   "attachments": {},
   "cell_type": "markdown",
   "metadata": {},
   "source": [
    "# Create Chart"
   ]
  },
  {
   "cell_type": "code",
   "execution_count": 12,
   "metadata": {},
   "outputs": [
    {
     "data": {
      "text/html": [
       "\n",
       "<div id=\"altair-viz-e7865686b6a245cb895f47d190384a26\"></div>\n",
       "<script type=\"text/javascript\">\n",
       "  var VEGA_DEBUG = (typeof VEGA_DEBUG == \"undefined\") ? {} : VEGA_DEBUG;\n",
       "  (function(spec, embedOpt){\n",
       "    let outputDiv = document.currentScript.previousElementSibling;\n",
       "    if (outputDiv.id !== \"altair-viz-e7865686b6a245cb895f47d190384a26\") {\n",
       "      outputDiv = document.getElementById(\"altair-viz-e7865686b6a245cb895f47d190384a26\");\n",
       "    }\n",
       "    const paths = {\n",
       "      \"vega\": \"https://cdn.jsdelivr.net/npm//vega@5?noext\",\n",
       "      \"vega-lib\": \"https://cdn.jsdelivr.net/npm//vega-lib?noext\",\n",
       "      \"vega-lite\": \"https://cdn.jsdelivr.net/npm//vega-lite@4.17.0?noext\",\n",
       "      \"vega-embed\": \"https://cdn.jsdelivr.net/npm//vega-embed@6?noext\",\n",
       "    };\n",
       "\n",
       "    function maybeLoadScript(lib, version) {\n",
       "      var key = `${lib.replace(\"-\", \"\")}_version`;\n",
       "      return (VEGA_DEBUG[key] == version) ?\n",
       "        Promise.resolve(paths[lib]) :\n",
       "        new Promise(function(resolve, reject) {\n",
       "          var s = document.createElement('script');\n",
       "          document.getElementsByTagName(\"head\")[0].appendChild(s);\n",
       "          s.async = true;\n",
       "          s.onload = () => {\n",
       "            VEGA_DEBUG[key] = version;\n",
       "            return resolve(paths[lib]);\n",
       "          };\n",
       "          s.onerror = () => reject(`Error loading script: ${paths[lib]}`);\n",
       "          s.src = paths[lib];\n",
       "        });\n",
       "    }\n",
       "\n",
       "    function showError(err) {\n",
       "      outputDiv.innerHTML = `<div class=\"error\" style=\"color:red;\">${err}</div>`;\n",
       "      throw err;\n",
       "    }\n",
       "\n",
       "    function displayChart(vegaEmbed) {\n",
       "      vegaEmbed(outputDiv, spec, embedOpt)\n",
       "        .catch(err => showError(`Javascript Error: ${err.message}<br>This usually means there's a typo in your chart specification. See the javascript console for the full traceback.`));\n",
       "    }\n",
       "\n",
       "    if(typeof define === \"function\" && define.amd) {\n",
       "      requirejs.config({paths});\n",
       "      require([\"vega-embed\"], displayChart, err => showError(`Error loading script: ${err.message}`));\n",
       "    } else {\n",
       "      maybeLoadScript(\"vega\", \"5\")\n",
       "        .then(() => maybeLoadScript(\"vega-lite\", \"4.17.0\"))\n",
       "        .then(() => maybeLoadScript(\"vega-embed\", \"6\"))\n",
       "        .catch(showError)\n",
       "        .then(() => displayChart(vegaEmbed));\n",
       "    }\n",
       "  })({\"config\": {\"view\": {\"continuousWidth\": 400, \"continuousHeight\": 300}}, \"data\": {\"name\": \"data-d951f05a688d0a0114506cc5e0908eb0\"}, \"mark\": \"bar\", \"encoding\": {\"color\": {\"field\": \"colorhex\", \"legend\": null, \"scale\": {\"domain\": [\"#B9BCBC\", \"#BFC3C6\", \"#CBCCC9\", \"#CCC2B4\", \"#CFC7BD\", \"#D2CFC8\", \"#D4D1C9\", \"#D5CCC0\", \"#DCD2C3\", \"#E4D9C7\", \"#B7B8B5\", \"#BBBEBE\", \"#BDBCB7\", \"#C2BFB8\", \"#C3C2BE\", \"#CBBFAF\", \"#CBC4BA\", \"#D3C5B2\", \"#D4CABB\", \"#DDCCB5\", \"#A2AEB7\", \"#B6B8B7\", \"#BBBDBC\", \"#C3BEB6\", \"#C9C4BB\", \"#CDBFAD\", \"#D3C5B2\", \"#DFC9AD\", \"#E9D0B0\", \"#F7D7AE\", \"#A9A49C\", \"#B2ADA6\", \"#B4B0AA\", \"#B6B1AA\", \"#B9B2A8\", \"#B9B5AF\", \"#BEB6AB\", \"#C2BAAF\", \"#CBBFB0\", \"#DDCBB2\", \"#B2B5BD\", \"#B7BCC5\", \"#B8C3D1\", \"#BCC4CF\", \"#BDC7D3\", \"#BDCBDB\", \"#C1CBD8\", \"#C1CFDE\", \"#C2D2E1\", \"#CBDBE9\", \"#BFC5D0\", \"#C0CEDF\", \"#C1CAD7\", \"#C2CEDE\", \"#C3D2E4\", \"#C4CEDD\", \"#C6D2E1\", \"#C8D6E5\", \"#CCD9E9\", \"#D0DEED\", \"#989CA7\", \"#9EA3AD\", \"#A3A8B3\", \"#A5ACB8\", \"#A8ADB8\", \"#ACB2BD\", \"#B1B7C2\", \"#B6BCC6\", \"#BAC0CA\", \"#C7CDD6\", \"#CAD2DD\", \"#CCD5E0\", \"#CDD7E1\", \"#CFD7E1\", \"#D0DAE5\", \"#D1D7E2\", \"#D1DAE6\", \"#D3DAE4\", \"#D4DDE8\", \"#D9DFE7\", \"#7D9BD6\", \"#82A1DD\", \"#82A4E5\", \"#85A4E3\", \"#85A7E8\", \"#86A9EC\", \"#89ABEE\", \"#8CB0F4\", \"#8FB2F7\", \"#91B6FB\", \"#7C9BD5\", \"#8AACEF\", \"#8AB0F9\", \"#8DB4FC\", \"#8EB0F3\", \"#91B9FE\", \"#92B5F9\", \"#97B9FB\", \"#97BBFD\", \"#9AC0FD\", \"#818FA7\", \"#8695AD\", \"#8998AF\", \"#8B98B0\", \"#8B99B1\", \"#8D9CB3\", \"#909EB5\", \"#93A1B8\", \"#96A3BA\", \"#9AA8BE\", \"#828FA5\", \"#8C98AE\", \"#929EB3\", \"#94A0B5\", \"#96A2B7\", \"#99A5B9\", \"#9CA9BC\", \"#A0ACBF\", \"#A3AEC1\", \"#A7B2C5\", \"#77869B\", \"#7D8BA0\", \"#818FA4\", \"#8490A5\", \"#8693A8\", \"#8A96AB\", \"#8E9BAF\", \"#93A0B3\", \"#99A5B8\", \"#A0ACBE\", \"#757F90\", \"#788393\", \"#7B8495\", \"#7E8898\", \"#858E9D\", \"#8D96A5\", \"#9AA3B0\", \"#ABB4C0\", \"#BAC2CC\", \"#C6CDD6\", \"#8592A8\", \"#8C99AC\", \"#909CB0\", \"#939EB1\", \"#95A1B4\", \"#97A2B3\", \"#99A4B6\", \"#9EA9B9\", \"#A5B0BF\", \"#B6BFCC\", \"#778497\", \"#808DA0\", \"#8592A6\", \"#8794A8\", \"#8996AA\", \"#8C9AAE\", \"#93A0B5\", \"#99A5BB\", \"#9DA9BF\", \"#A2AEC4\", \"#8C99AF\", \"#8F9CB1\", \"#929FB4\", \"#94A1B6\", \"#96A3B8\", \"#98A4B9\", \"#9AA6BB\", \"#9DA9BE\", \"#A1ADC2\", \"#A6B2C7\", \"#9CA5B4\", \"#A2ACBD\", \"#A6B1C2\", \"#AAB3C2\", \"#ABB4C5\", \"#ADB7C7\", \"#B1BACB\", \"#B5BFCF\", \"#BAC3D4\", \"#C1CADA\", \"#B2B8BF\", \"#B5BCC4\", \"#B8BDC4\", \"#BBC1C7\", \"#BFC5CB\", \"#C4C9CE\", \"#CBD0D4\", \"#D6DADD\", \"#E3E6E7\", \"#F0F2F1\", \"#96A9CD\", \"#99ADD1\", \"#9CB0D4\", \"#9FB1D4\", \"#A1B4D6\", \"#A2B6D9\", \"#A6B8D9\", \"#A9BBDC\", \"#ACBEDE\", \"#B5C5E3\", \"#7D8DA3\", \"#8191AA\", \"#8294B1\", \"#8595AC\", \"#8798B3\", \"#8B9BB6\", \"#909FB7\", \"#93A3BC\", \"#96A5BE\", \"#9AAAC2\", \"#6B81A4\", \"#6D85AA\", \"#7187A8\", \"#748BAE\", \"#7A8FAF\", \"#7E93B3\", \"#879CBB\", \"#92A6C5\", \"#98ABCA\", \"#9DB0CD\", \"#ADBCD9\", \"#AFBFDB\", \"#B2C2DD\", \"#B3C3DE\", \"#B4C4DF\", \"#B5C5E0\", \"#B6C6E0\", \"#B8C7E1\", \"#B9C8E1\", \"#BCCBE2\", \"#627695\", \"#798BA7\", \"#8093B0\", \"#8296B5\", \"#8598B6\", \"#899BB9\", \"#8EA0BD\", \"#94A6C1\", \"#A0B0C9\", \"#A8B7CE\", \"#5E7290\", \"#7B8CA6\", \"#8193B0\", \"#8595AD\", \"#8798B4\", \"#899BB8\", \"#90A0B9\", \"#98A7C0\", \"#9DACC4\", \"#A3B2C7\", \"#93989C\", \"#9EA3A7\", \"#A3A8AC\", \"#A9ADB3\", \"#AAB0B5\", \"#ACB0B5\", \"#ADB1B7\", \"#AEB4B9\", \"#B1B7BC\", \"#B6BDC3\", \"#8F9497\", \"#989DA0\", \"#9BA0A3\", \"#9DA2A5\", \"#A0A4A8\", \"#A3A7AB\", \"#A6AAAF\", \"#A8ACB1\", \"#A9AEB2\", \"#AAB0B4\", \"#93979A\", \"#999DA1\", \"#A0A4A7\", \"#A7ABAE\", \"#ACB0B3\", \"#AFB0B5\", \"#B0B3B7\", \"#B0B4B8\", \"#B1B5BA\", \"#B3B7BB\", \"#9C9FA1\", \"#A1A4A8\", \"#A4A7AA\", \"#A7A9AD\", \"#AAADB1\", \"#ADAEB2\", \"#AEB1B4\", \"#B0B3B7\", \"#B2B5B9\", \"#B3B7BA\", \"#83888A\", \"#8D9193\", \"#929698\", \"#969B9E\", \"#999DA0\", \"#9BA0A4\", \"#9FA3A7\", \"#A5AAAE\", \"#A8AEB3\", \"#AEB1B5\"], \"range\": [\"#B9BCBC\", \"#BFC3C6\", \"#CBCCC9\", \"#CCC2B4\", \"#CFC7BD\", \"#D2CFC8\", \"#D4D1C9\", \"#D5CCC0\", \"#DCD2C3\", \"#E4D9C7\", \"#B7B8B5\", \"#BBBEBE\", \"#BDBCB7\", \"#C2BFB8\", \"#C3C2BE\", \"#CBBFAF\", \"#CBC4BA\", \"#D3C5B2\", \"#D4CABB\", \"#DDCCB5\", \"#A2AEB7\", \"#B6B8B7\", \"#BBBDBC\", \"#C3BEB6\", \"#C9C4BB\", \"#CDBFAD\", \"#D3C5B2\", \"#DFC9AD\", \"#E9D0B0\", \"#F7D7AE\", \"#A9A49C\", \"#B2ADA6\", \"#B4B0AA\", \"#B6B1AA\", \"#B9B2A8\", \"#B9B5AF\", \"#BEB6AB\", \"#C2BAAF\", \"#CBBFB0\", \"#DDCBB2\", \"#B2B5BD\", \"#B7BCC5\", \"#B8C3D1\", \"#BCC4CF\", \"#BDC7D3\", \"#BDCBDB\", \"#C1CBD8\", \"#C1CFDE\", \"#C2D2E1\", \"#CBDBE9\", \"#BFC5D0\", \"#C0CEDF\", \"#C1CAD7\", \"#C2CEDE\", \"#C3D2E4\", \"#C4CEDD\", \"#C6D2E1\", \"#C8D6E5\", \"#CCD9E9\", \"#D0DEED\", \"#989CA7\", \"#9EA3AD\", \"#A3A8B3\", \"#A5ACB8\", \"#A8ADB8\", \"#ACB2BD\", \"#B1B7C2\", \"#B6BCC6\", \"#BAC0CA\", \"#C7CDD6\", \"#CAD2DD\", \"#CCD5E0\", \"#CDD7E1\", \"#CFD7E1\", \"#D0DAE5\", \"#D1D7E2\", \"#D1DAE6\", \"#D3DAE4\", \"#D4DDE8\", \"#D9DFE7\", \"#7D9BD6\", \"#82A1DD\", \"#82A4E5\", \"#85A4E3\", \"#85A7E8\", \"#86A9EC\", \"#89ABEE\", \"#8CB0F4\", \"#8FB2F7\", \"#91B6FB\", \"#7C9BD5\", \"#8AACEF\", \"#8AB0F9\", \"#8DB4FC\", \"#8EB0F3\", \"#91B9FE\", \"#92B5F9\", \"#97B9FB\", \"#97BBFD\", \"#9AC0FD\", \"#818FA7\", \"#8695AD\", \"#8998AF\", \"#8B98B0\", \"#8B99B1\", \"#8D9CB3\", \"#909EB5\", \"#93A1B8\", \"#96A3BA\", \"#9AA8BE\", \"#828FA5\", \"#8C98AE\", \"#929EB3\", \"#94A0B5\", \"#96A2B7\", \"#99A5B9\", \"#9CA9BC\", \"#A0ACBF\", \"#A3AEC1\", \"#A7B2C5\", \"#77869B\", \"#7D8BA0\", \"#818FA4\", \"#8490A5\", \"#8693A8\", \"#8A96AB\", \"#8E9BAF\", \"#93A0B3\", \"#99A5B8\", \"#A0ACBE\", \"#757F90\", \"#788393\", \"#7B8495\", \"#7E8898\", \"#858E9D\", \"#8D96A5\", \"#9AA3B0\", \"#ABB4C0\", \"#BAC2CC\", \"#C6CDD6\", \"#8592A8\", \"#8C99AC\", \"#909CB0\", \"#939EB1\", \"#95A1B4\", \"#97A2B3\", \"#99A4B6\", \"#9EA9B9\", \"#A5B0BF\", \"#B6BFCC\", \"#778497\", \"#808DA0\", \"#8592A6\", \"#8794A8\", \"#8996AA\", \"#8C9AAE\", \"#93A0B5\", \"#99A5BB\", \"#9DA9BF\", \"#A2AEC4\", \"#8C99AF\", \"#8F9CB1\", \"#929FB4\", \"#94A1B6\", \"#96A3B8\", \"#98A4B9\", \"#9AA6BB\", \"#9DA9BE\", \"#A1ADC2\", \"#A6B2C7\", \"#9CA5B4\", \"#A2ACBD\", \"#A6B1C2\", \"#AAB3C2\", \"#ABB4C5\", \"#ADB7C7\", \"#B1BACB\", \"#B5BFCF\", \"#BAC3D4\", \"#C1CADA\", \"#B2B8BF\", \"#B5BCC4\", \"#B8BDC4\", \"#BBC1C7\", \"#BFC5CB\", \"#C4C9CE\", \"#CBD0D4\", \"#D6DADD\", \"#E3E6E7\", \"#F0F2F1\", \"#96A9CD\", \"#99ADD1\", \"#9CB0D4\", \"#9FB1D4\", \"#A1B4D6\", \"#A2B6D9\", \"#A6B8D9\", \"#A9BBDC\", \"#ACBEDE\", \"#B5C5E3\", \"#7D8DA3\", \"#8191AA\", \"#8294B1\", \"#8595AC\", \"#8798B3\", \"#8B9BB6\", \"#909FB7\", \"#93A3BC\", \"#96A5BE\", \"#9AAAC2\", \"#6B81A4\", \"#6D85AA\", \"#7187A8\", \"#748BAE\", \"#7A8FAF\", \"#7E93B3\", \"#879CBB\", \"#92A6C5\", \"#98ABCA\", \"#9DB0CD\", \"#ADBCD9\", \"#AFBFDB\", \"#B2C2DD\", \"#B3C3DE\", \"#B4C4DF\", \"#B5C5E0\", \"#B6C6E0\", \"#B8C7E1\", \"#B9C8E1\", \"#BCCBE2\", \"#627695\", \"#798BA7\", \"#8093B0\", \"#8296B5\", \"#8598B6\", \"#899BB9\", \"#8EA0BD\", \"#94A6C1\", \"#A0B0C9\", \"#A8B7CE\", \"#5E7290\", \"#7B8CA6\", \"#8193B0\", \"#8595AD\", \"#8798B4\", \"#899BB8\", \"#90A0B9\", \"#98A7C0\", \"#9DACC4\", \"#A3B2C7\", \"#93989C\", \"#9EA3A7\", \"#A3A8AC\", \"#A9ADB3\", \"#AAB0B5\", \"#ACB0B5\", \"#ADB1B7\", \"#AEB4B9\", \"#B1B7BC\", \"#B6BDC3\", \"#8F9497\", \"#989DA0\", \"#9BA0A3\", \"#9DA2A5\", \"#A0A4A8\", \"#A3A7AB\", \"#A6AAAF\", \"#A8ACB1\", \"#A9AEB2\", \"#AAB0B4\", \"#93979A\", \"#999DA1\", \"#A0A4A7\", \"#A7ABAE\", \"#ACB0B3\", \"#AFB0B5\", \"#B0B3B7\", \"#B0B4B8\", \"#B1B5BA\", \"#B3B7BB\", \"#9C9FA1\", \"#A1A4A8\", \"#A4A7AA\", \"#A7A9AD\", \"#AAADB1\", \"#ADAEB2\", \"#AEB1B4\", \"#B0B3B7\", \"#B2B5B9\", \"#B3B7BA\", \"#83888A\", \"#8D9193\", \"#929698\", \"#969B9E\", \"#999DA0\", \"#9BA0A4\", \"#9FA3A7\", \"#A5AAAE\", \"#A8AEB3\", \"#AEB1B5\"]}, \"type\": \"nominal\"}, \"x\": {\"axis\": null, \"field\": \"datetime\", \"type\": \"ordinal\"}, \"y\": {\"axis\": null, \"field\": \"percentage\", \"type\": \"quantitative\"}}, \"height\": 600, \"width\": 1200, \"$schema\": \"https://vega.github.io/schema/vega-lite/v4.17.0.json\", \"datasets\": {\"data-d951f05a688d0a0114506cc5e0908eb0\": [{\"Unnamed: 0\": 0, \"id\": 1, \"datetime\": \"2022:02:08 16:42:20\", \"colorhex\": \"#B9BCBC\", \"numpixel\": 7035, \"percentage\": 7.816666666666666}, {\"Unnamed: 0\": 1, \"id\": 1, \"datetime\": \"2022:02:08 16:42:20\", \"colorhex\": \"#BFC3C6\", \"numpixel\": 10975, \"percentage\": 12.194444444444445}, {\"Unnamed: 0\": 2, \"id\": 1, \"datetime\": \"2022:02:08 16:42:20\", \"colorhex\": \"#CBCCC9\", \"numpixel\": 13707, \"percentage\": 15.23}, {\"Unnamed: 0\": 3, \"id\": 1, \"datetime\": \"2022:02:08 16:42:20\", \"colorhex\": \"#CCC2B4\", \"numpixel\": 12656, \"percentage\": 14.062222222222225}, {\"Unnamed: 0\": 4, \"id\": 1, \"datetime\": \"2022:02:08 16:42:20\", \"colorhex\": \"#CFC7BD\", \"numpixel\": 7510, \"percentage\": 8.344444444444445}, {\"Unnamed: 0\": 5, \"id\": 1, \"datetime\": \"2022:02:08 16:42:20\", \"colorhex\": \"#D2CFC8\", \"numpixel\": 6302, \"percentage\": 7.002222222222223}, {\"Unnamed: 0\": 6, \"id\": 1, \"datetime\": \"2022:02:08 16:42:20\", \"colorhex\": \"#D4D1C9\", \"numpixel\": 5166, \"percentage\": 5.74}, {\"Unnamed: 0\": 7, \"id\": 1, \"datetime\": \"2022:02:08 16:42:20\", \"colorhex\": \"#D5CCC0\", \"numpixel\": 9483, \"percentage\": 10.536666666666669}, {\"Unnamed: 0\": 8, \"id\": 1, \"datetime\": \"2022:02:08 16:42:20\", \"colorhex\": \"#DCD2C3\", \"numpixel\": 9841, \"percentage\": 10.934444444444445}, {\"Unnamed: 0\": 9, \"id\": 1, \"datetime\": \"2022:02:08 16:42:20\", \"colorhex\": \"#E4D9C7\", \"numpixel\": 7325, \"percentage\": 8.13888888888889}, {\"Unnamed: 0\": 0, \"id\": 2, \"datetime\": \"2022:02:08 16:42:32\", \"colorhex\": \"#B7B8B5\", \"numpixel\": 7491, \"percentage\": 8.323333333333334}, {\"Unnamed: 0\": 1, \"id\": 2, \"datetime\": \"2022:02:08 16:42:32\", \"colorhex\": \"#BBBEBE\", \"numpixel\": 16962, \"percentage\": 18.846666666666668}, {\"Unnamed: 0\": 2, \"id\": 2, \"datetime\": \"2022:02:08 16:42:32\", \"colorhex\": \"#BDBCB7\", \"numpixel\": 3059, \"percentage\": 3.3988888888888886}, {\"Unnamed: 0\": 3, \"id\": 2, \"datetime\": \"2022:02:08 16:42:32\", \"colorhex\": \"#C2BFB8\", \"numpixel\": 3851, \"percentage\": 4.278888888888889}, {\"Unnamed: 0\": 4, \"id\": 2, \"datetime\": \"2022:02:08 16:42:32\", \"colorhex\": \"#C3C2BE\", \"numpixel\": 11096, \"percentage\": 12.328888888888889}, {\"Unnamed: 0\": 5, \"id\": 2, \"datetime\": \"2022:02:08 16:42:32\", \"colorhex\": \"#CBBFAF\", \"numpixel\": 14043, \"percentage\": 15.603333333333332}, {\"Unnamed: 0\": 6, \"id\": 2, \"datetime\": \"2022:02:08 16:42:32\", \"colorhex\": \"#CBC4BA\", \"numpixel\": 10763, \"percentage\": 11.958888888888888}, {\"Unnamed: 0\": 7, \"id\": 2, \"datetime\": \"2022:02:08 16:42:32\", \"colorhex\": \"#D3C5B2\", \"numpixel\": 9455, \"percentage\": 10.505555555555556}, {\"Unnamed: 0\": 8, \"id\": 2, \"datetime\": \"2022:02:08 16:42:32\", \"colorhex\": \"#D4CABB\", \"numpixel\": 6165, \"percentage\": 6.8500000000000005}, {\"Unnamed: 0\": 9, \"id\": 2, \"datetime\": \"2022:02:08 16:42:32\", \"colorhex\": \"#DDCCB5\", \"numpixel\": 7115, \"percentage\": 7.905555555555556}, {\"Unnamed: 0\": 0, \"id\": 3, \"datetime\": \"2022:02:08 16:42:45\", \"colorhex\": \"#A2AEB7\", \"numpixel\": 9294, \"percentage\": 10.326666666666668}, {\"Unnamed: 0\": 1, \"id\": 3, \"datetime\": \"2022:02:08 16:42:45\", \"colorhex\": \"#B6B8B7\", \"numpixel\": 10075, \"percentage\": 11.194444444444445}, {\"Unnamed: 0\": 2, \"id\": 3, \"datetime\": \"2022:02:08 16:42:45\", \"colorhex\": \"#BBBDBC\", \"numpixel\": 10050, \"percentage\": 11.166666666666666}, {\"Unnamed: 0\": 3, \"id\": 3, \"datetime\": \"2022:02:08 16:42:45\", \"colorhex\": \"#C3BEB6\", \"numpixel\": 8295, \"percentage\": 9.216666666666669}, {\"Unnamed: 0\": 4, \"id\": 3, \"datetime\": \"2022:02:08 16:42:45\", \"colorhex\": \"#C9C4BB\", \"numpixel\": 10706, \"percentage\": 11.895555555555555}, {\"Unnamed: 0\": 5, \"id\": 3, \"datetime\": \"2022:02:08 16:42:45\", \"colorhex\": \"#CDBFAD\", \"numpixel\": 6481, \"percentage\": 7.201111111111111}, {\"Unnamed: 0\": 6, \"id\": 3, \"datetime\": \"2022:02:08 16:42:45\", \"colorhex\": \"#D3C5B2\", \"numpixel\": 11519, \"percentage\": 12.79888888888889}, {\"Unnamed: 0\": 7, \"id\": 3, \"datetime\": \"2022:02:08 16:42:45\", \"colorhex\": \"#DFC9AD\", \"numpixel\": 10148, \"percentage\": 11.275555555555556}, {\"Unnamed: 0\": 8, \"id\": 3, \"datetime\": \"2022:02:08 16:42:45\", \"colorhex\": \"#E9D0B0\", \"numpixel\": 7359, \"percentage\": 8.176666666666668}, {\"Unnamed: 0\": 9, \"id\": 3, \"datetime\": \"2022:02:08 16:42:45\", \"colorhex\": \"#F7D7AE\", \"numpixel\": 6073, \"percentage\": 6.747777777777777}, {\"Unnamed: 0\": 0, \"id\": 4, \"datetime\": \"2022:02:08 16:43:03\", \"colorhex\": \"#A9A49C\", \"numpixel\": 6714, \"percentage\": 7.46}, {\"Unnamed: 0\": 1, \"id\": 4, \"datetime\": \"2022:02:08 16:43:03\", \"colorhex\": \"#B2ADA6\", \"numpixel\": 14988, \"percentage\": 16.653333333333332}, {\"Unnamed: 0\": 2, \"id\": 4, \"datetime\": \"2022:02:08 16:43:03\", \"colorhex\": \"#B4B0AA\", \"numpixel\": 6405, \"percentage\": 7.116666666666667}, {\"Unnamed: 0\": 3, \"id\": 4, \"datetime\": \"2022:02:08 16:43:03\", \"colorhex\": \"#B6B1AA\", \"numpixel\": 7585, \"percentage\": 8.427777777777777}, {\"Unnamed: 0\": 4, \"id\": 4, \"datetime\": \"2022:02:08 16:43:03\", \"colorhex\": \"#B9B2A8\", \"numpixel\": 8607, \"percentage\": 9.563333333333333}, {\"Unnamed: 0\": 5, \"id\": 4, \"datetime\": \"2022:02:08 16:43:03\", \"colorhex\": \"#B9B5AF\", \"numpixel\": 13512, \"percentage\": 15.013333333333334}, {\"Unnamed: 0\": 6, \"id\": 4, \"datetime\": \"2022:02:08 16:43:03\", \"colorhex\": \"#BEB6AB\", \"numpixel\": 8233, \"percentage\": 9.147777777777778}, {\"Unnamed: 0\": 7, \"id\": 4, \"datetime\": \"2022:02:08 16:43:03\", \"colorhex\": \"#C2BAAF\", \"numpixel\": 10705, \"percentage\": 11.894444444444446}, {\"Unnamed: 0\": 8, \"id\": 4, \"datetime\": \"2022:02:08 16:43:03\", \"colorhex\": \"#CBBFB0\", \"numpixel\": 7678, \"percentage\": 8.531111111111112}, {\"Unnamed: 0\": 9, \"id\": 4, \"datetime\": \"2022:02:08 16:43:03\", \"colorhex\": \"#DDCBB2\", \"numpixel\": 5573, \"percentage\": 6.192222222222222}, {\"Unnamed: 0\": 0, \"id\": 5, \"datetime\": \"2022:02:08 17:09:40\", \"colorhex\": \"#B2B5BD\", \"numpixel\": 10017, \"percentage\": 11.13}, {\"Unnamed: 0\": 1, \"id\": 5, \"datetime\": \"2022:02:08 17:09:40\", \"colorhex\": \"#B7BCC5\", \"numpixel\": 12071, \"percentage\": 13.412222222222224}, {\"Unnamed: 0\": 2, \"id\": 5, \"datetime\": \"2022:02:08 17:09:40\", \"colorhex\": \"#B8C3D1\", \"numpixel\": 4333, \"percentage\": 4.814444444444444}, {\"Unnamed: 0\": 3, \"id\": 5, \"datetime\": \"2022:02:08 17:09:40\", \"colorhex\": \"#BCC4CF\", \"numpixel\": 7862, \"percentage\": 8.735555555555557}, {\"Unnamed: 0\": 4, \"id\": 5, \"datetime\": \"2022:02:08 17:09:40\", \"colorhex\": \"#BDC7D3\", \"numpixel\": 9616, \"percentage\": 10.684444444444445}, {\"Unnamed: 0\": 5, \"id\": 5, \"datetime\": \"2022:02:08 17:09:40\", \"colorhex\": \"#BDCBDB\", \"numpixel\": 9849, \"percentage\": 10.943333333333332}, {\"Unnamed: 0\": 6, \"id\": 5, \"datetime\": \"2022:02:08 17:09:40\", \"colorhex\": \"#C1CBD8\", \"numpixel\": 10986, \"percentage\": 12.206666666666669}, {\"Unnamed: 0\": 7, \"id\": 5, \"datetime\": \"2022:02:08 17:09:40\", \"colorhex\": \"#C1CFDE\", \"numpixel\": 10340, \"percentage\": 11.488888888888887}, {\"Unnamed: 0\": 8, \"id\": 5, \"datetime\": \"2022:02:08 17:09:40\", \"colorhex\": \"#C2D2E1\", \"numpixel\": 9237, \"percentage\": 10.263333333333332}, {\"Unnamed: 0\": 9, \"id\": 5, \"datetime\": \"2022:02:08 17:09:40\", \"colorhex\": \"#CBDBE9\", \"numpixel\": 5689, \"percentage\": 6.321111111111111}, {\"Unnamed: 0\": 0, \"id\": 6, \"datetime\": \"2022:02:08 17:10:07\", \"colorhex\": \"#BFC5D0\", \"numpixel\": 7720, \"percentage\": 8.577777777777778}, {\"Unnamed: 0\": 1, \"id\": 6, \"datetime\": \"2022:02:08 17:10:07\", \"colorhex\": \"#C0CEDF\", \"numpixel\": 4179, \"percentage\": 4.6433333333333335}, {\"Unnamed: 0\": 2, \"id\": 6, \"datetime\": \"2022:02:08 17:10:07\", \"colorhex\": \"#C1CAD7\", \"numpixel\": 13658, \"percentage\": 15.175555555555556}, {\"Unnamed: 0\": 3, \"id\": 6, \"datetime\": \"2022:02:08 17:10:07\", \"colorhex\": \"#C2CEDE\", \"numpixel\": 5781, \"percentage\": 6.423333333333334}, {\"Unnamed: 0\": 4, \"id\": 6, \"datetime\": \"2022:02:08 17:10:07\", \"colorhex\": \"#C3D2E4\", \"numpixel\": 9680, \"percentage\": 10.755555555555556}, {\"Unnamed: 0\": 5, \"id\": 6, \"datetime\": \"2022:02:08 17:10:07\", \"colorhex\": \"#C4CEDD\", \"numpixel\": 7634, \"percentage\": 8.482222222222221}, {\"Unnamed: 0\": 6, \"id\": 6, \"datetime\": \"2022:02:08 17:10:07\", \"colorhex\": \"#C6D2E1\", \"numpixel\": 8366, \"percentage\": 9.295555555555556}, {\"Unnamed: 0\": 7, \"id\": 6, \"datetime\": \"2022:02:08 17:10:07\", \"colorhex\": \"#C8D6E5\", \"numpixel\": 8185, \"percentage\": 9.094444444444443}, {\"Unnamed: 0\": 8, \"id\": 6, \"datetime\": \"2022:02:08 17:10:07\", \"colorhex\": \"#CCD9E9\", \"numpixel\": 12095, \"percentage\": 13.43888888888889}, {\"Unnamed: 0\": 9, \"id\": 6, \"datetime\": \"2022:02:08 17:10:07\", \"colorhex\": \"#D0DEED\", \"numpixel\": 12702, \"percentage\": 14.113333333333332}, {\"Unnamed: 0\": 0, \"id\": 7, \"datetime\": \"2022:02:08 17:10:15\", \"colorhex\": \"#989CA7\", \"numpixel\": 9334, \"percentage\": 10.371111111111112}, {\"Unnamed: 0\": 1, \"id\": 7, \"datetime\": \"2022:02:08 17:10:15\", \"colorhex\": \"#9EA3AD\", \"numpixel\": 11394, \"percentage\": 12.659999999999998}, {\"Unnamed: 0\": 2, \"id\": 7, \"datetime\": \"2022:02:08 17:10:15\", \"colorhex\": \"#A3A8B3\", \"numpixel\": 8879, \"percentage\": 9.865555555555556}, {\"Unnamed: 0\": 3, \"id\": 7, \"datetime\": \"2022:02:08 17:10:15\", \"colorhex\": \"#A5ACB8\", \"numpixel\": 5872, \"percentage\": 6.524444444444444}, {\"Unnamed: 0\": 4, \"id\": 7, \"datetime\": \"2022:02:08 17:10:15\", \"colorhex\": \"#A8ADB8\", \"numpixel\": 9594, \"percentage\": 10.66}, {\"Unnamed: 0\": 5, \"id\": 7, \"datetime\": \"2022:02:08 17:10:15\", \"colorhex\": \"#ACB2BD\", \"numpixel\": 9134, \"percentage\": 10.148888888888887}, {\"Unnamed: 0\": 6, \"id\": 7, \"datetime\": \"2022:02:08 17:10:15\", \"colorhex\": \"#B1B7C2\", \"numpixel\": 5794, \"percentage\": 6.437777777777779}, {\"Unnamed: 0\": 7, \"id\": 7, \"datetime\": \"2022:02:08 17:10:15\", \"colorhex\": \"#B6BCC6\", \"numpixel\": 7789, \"percentage\": 8.654444444444444}, {\"Unnamed: 0\": 8, \"id\": 7, \"datetime\": \"2022:02:08 17:10:15\", \"colorhex\": \"#BAC0CA\", \"numpixel\": 14546, \"percentage\": 16.162222222222223}, {\"Unnamed: 0\": 9, \"id\": 7, \"datetime\": \"2022:02:08 17:10:15\", \"colorhex\": \"#C7CDD6\", \"numpixel\": 7664, \"percentage\": 8.515555555555556}, {\"Unnamed: 0\": 0, \"id\": 8, \"datetime\": \"2022:02:08 17:13:19\", \"colorhex\": \"#CAD2DD\", \"numpixel\": 9792, \"percentage\": 10.88}, {\"Unnamed: 0\": 1, \"id\": 8, \"datetime\": \"2022:02:08 17:13:19\", \"colorhex\": \"#CCD5E0\", \"numpixel\": 11812, \"percentage\": 13.124444444444444}, {\"Unnamed: 0\": 2, \"id\": 8, \"datetime\": \"2022:02:08 17:13:19\", \"colorhex\": \"#CDD7E1\", \"numpixel\": 6149, \"percentage\": 6.832222222222223}, {\"Unnamed: 0\": 3, \"id\": 8, \"datetime\": \"2022:02:08 17:13:19\", \"colorhex\": \"#CFD7E1\", \"numpixel\": 8588, \"percentage\": 9.542222222222223}, {\"Unnamed: 0\": 4, \"id\": 8, \"datetime\": \"2022:02:08 17:13:19\", \"colorhex\": \"#D0DAE5\", \"numpixel\": 6703, \"percentage\": 7.447777777777778}, {\"Unnamed: 0\": 5, \"id\": 8, \"datetime\": \"2022:02:08 17:13:19\", \"colorhex\": \"#D1D7E2\", \"numpixel\": 8829, \"percentage\": 9.81}, {\"Unnamed: 0\": 6, \"id\": 8, \"datetime\": \"2022:02:08 17:13:19\", \"colorhex\": \"#D1DAE6\", \"numpixel\": 6468, \"percentage\": 7.1866666666666665}, {\"Unnamed: 0\": 7, \"id\": 8, \"datetime\": \"2022:02:08 17:13:19\", \"colorhex\": \"#D3DAE4\", \"numpixel\": 8664, \"percentage\": 9.626666666666669}, {\"Unnamed: 0\": 8, \"id\": 8, \"datetime\": \"2022:02:08 17:13:19\", \"colorhex\": \"#D4DDE8\", \"numpixel\": 10651, \"percentage\": 11.834444444444443}, {\"Unnamed: 0\": 9, \"id\": 8, \"datetime\": \"2022:02:08 17:13:19\", \"colorhex\": \"#D9DFE7\", \"numpixel\": 12344, \"percentage\": 13.715555555555556}, {\"Unnamed: 0\": 0, \"id\": 9, \"datetime\": \"2022:02:08 17:29:50\", \"colorhex\": \"#7D9BD6\", \"numpixel\": 7084, \"percentage\": 7.8711111111111105}, {\"Unnamed: 0\": 1, \"id\": 9, \"datetime\": \"2022:02:08 17:29:50\", \"colorhex\": \"#82A1DD\", \"numpixel\": 10103, \"percentage\": 11.225555555555555}, {\"Unnamed: 0\": 2, \"id\": 9, \"datetime\": \"2022:02:08 17:29:50\", \"colorhex\": \"#82A4E5\", \"numpixel\": 6665, \"percentage\": 7.405555555555556}, {\"Unnamed: 0\": 3, \"id\": 9, \"datetime\": \"2022:02:08 17:29:50\", \"colorhex\": \"#85A4E3\", \"numpixel\": 6618, \"percentage\": 7.353333333333333}, {\"Unnamed: 0\": 4, \"id\": 9, \"datetime\": \"2022:02:08 17:29:50\", \"colorhex\": \"#85A7E8\", \"numpixel\": 11755, \"percentage\": 13.061111111111112}, {\"Unnamed: 0\": 5, \"id\": 9, \"datetime\": \"2022:02:08 17:29:50\", \"colorhex\": \"#86A9EC\", \"numpixel\": 9432, \"percentage\": 10.48}, {\"Unnamed: 0\": 6, \"id\": 9, \"datetime\": \"2022:02:08 17:29:50\", \"colorhex\": \"#89ABEE\", \"numpixel\": 11024, \"percentage\": 12.248888888888889}, {\"Unnamed: 0\": 7, \"id\": 9, \"datetime\": \"2022:02:08 17:29:50\", \"colorhex\": \"#8CB0F4\", \"numpixel\": 11630, \"percentage\": 12.92222222222222}, {\"Unnamed: 0\": 8, \"id\": 9, \"datetime\": \"2022:02:08 17:29:50\", \"colorhex\": \"#8FB2F7\", \"numpixel\": 8171, \"percentage\": 9.078888888888889}, {\"Unnamed: 0\": 9, \"id\": 9, \"datetime\": \"2022:02:08 17:29:50\", \"colorhex\": \"#91B6FB\", \"numpixel\": 7518, \"percentage\": 8.353333333333333}, {\"Unnamed: 0\": 0, \"id\": 10, \"datetime\": \"2022:02:08 17:30:13\", \"colorhex\": \"#7C9BD5\", \"numpixel\": 1654, \"percentage\": 1.8377777777777775}, {\"Unnamed: 0\": 1, \"id\": 10, \"datetime\": \"2022:02:08 17:30:13\", \"colorhex\": \"#8AACEF\", \"numpixel\": 17167, \"percentage\": 19.074444444444445}, {\"Unnamed: 0\": 2, \"id\": 10, \"datetime\": \"2022:02:08 17:30:13\", \"colorhex\": \"#8AB0F9\", \"numpixel\": 9342, \"percentage\": 10.38}, {\"Unnamed: 0\": 3, \"id\": 10, \"datetime\": \"2022:02:08 17:30:13\", \"colorhex\": \"#8DB4FC\", \"numpixel\": 13179, \"percentage\": 14.643333333333333}, {\"Unnamed: 0\": 4, \"id\": 10, \"datetime\": \"2022:02:08 17:30:13\", \"colorhex\": \"#8EB0F3\", \"numpixel\": 9141, \"percentage\": 10.156666666666666}, {\"Unnamed: 0\": 5, \"id\": 10, \"datetime\": \"2022:02:08 17:30:13\", \"colorhex\": \"#91B9FE\", \"numpixel\": 10993, \"percentage\": 12.214444444444444}, {\"Unnamed: 0\": 6, \"id\": 10, \"datetime\": \"2022:02:08 17:30:13\", \"colorhex\": \"#92B5F9\", \"numpixel\": 9262, \"percentage\": 10.29111111111111}, {\"Unnamed: 0\": 7, \"id\": 10, \"datetime\": \"2022:02:08 17:30:13\", \"colorhex\": \"#97B9FB\", \"numpixel\": 5219, \"percentage\": 5.7988888888888885}, {\"Unnamed: 0\": 8, \"id\": 10, \"datetime\": \"2022:02:08 17:30:13\", \"colorhex\": \"#97BBFD\", \"numpixel\": 6965, \"percentage\": 7.738888888888888}, {\"Unnamed: 0\": 9, \"id\": 10, \"datetime\": \"2022:02:08 17:30:13\", \"colorhex\": \"#9AC0FD\", \"numpixel\": 7078, \"percentage\": 7.864444444444445}, {\"Unnamed: 0\": 0, \"id\": 11, \"datetime\": \"2022:02:09 15:40:03\", \"colorhex\": \"#818FA7\", \"numpixel\": 8617, \"percentage\": 9.574444444444444}, {\"Unnamed: 0\": 1, \"id\": 11, \"datetime\": \"2022:02:09 15:40:03\", \"colorhex\": \"#8695AD\", \"numpixel\": 10719, \"percentage\": 11.91}, {\"Unnamed: 0\": 2, \"id\": 11, \"datetime\": \"2022:02:09 15:40:03\", \"colorhex\": \"#8998AF\", \"numpixel\": 9390, \"percentage\": 10.433333333333334}, {\"Unnamed: 0\": 3, \"id\": 11, \"datetime\": \"2022:02:09 15:40:03\", \"colorhex\": \"#8B98B0\", \"numpixel\": 1612, \"percentage\": 1.791111111111111}, {\"Unnamed: 0\": 4, \"id\": 11, \"datetime\": \"2022:02:09 15:40:03\", \"colorhex\": \"#8B99B1\", \"numpixel\": 9834, \"percentage\": 10.926666666666666}, {\"Unnamed: 0\": 5, \"id\": 11, \"datetime\": \"2022:02:09 15:40:03\", \"colorhex\": \"#8D9CB3\", \"numpixel\": 12569, \"percentage\": 13.965555555555556}, {\"Unnamed: 0\": 6, \"id\": 11, \"datetime\": \"2022:02:09 15:40:03\", \"colorhex\": \"#909EB5\", \"numpixel\": 11257, \"percentage\": 12.50777777777778}, {\"Unnamed: 0\": 7, \"id\": 11, \"datetime\": \"2022:02:09 15:40:03\", \"colorhex\": \"#93A1B8\", \"numpixel\": 11826, \"percentage\": 13.14}, {\"Unnamed: 0\": 8, \"id\": 11, \"datetime\": \"2022:02:09 15:40:03\", \"colorhex\": \"#96A3BA\", \"numpixel\": 7781, \"percentage\": 8.645555555555555}, {\"Unnamed: 0\": 9, \"id\": 11, \"datetime\": \"2022:02:09 15:40:03\", \"colorhex\": \"#9AA8BE\", \"numpixel\": 6395, \"percentage\": 7.105555555555555}, {\"Unnamed: 0\": 0, \"id\": 12, \"datetime\": \"2022:02:09 15:40:18\", \"colorhex\": \"#828FA5\", \"numpixel\": 8114, \"percentage\": 9.015555555555556}, {\"Unnamed: 0\": 1, \"id\": 12, \"datetime\": \"2022:02:09 15:40:18\", \"colorhex\": \"#8C98AE\", \"numpixel\": 10204, \"percentage\": 11.337777777777776}, {\"Unnamed: 0\": 2, \"id\": 12, \"datetime\": \"2022:02:09 15:40:18\", \"colorhex\": \"#929EB3\", \"numpixel\": 10841, \"percentage\": 12.045555555555556}, {\"Unnamed: 0\": 3, \"id\": 12, \"datetime\": \"2022:02:09 15:40:18\", \"colorhex\": \"#94A0B5\", \"numpixel\": 6931, \"percentage\": 7.701111111111111}, {\"Unnamed: 0\": 4, \"id\": 12, \"datetime\": \"2022:02:09 15:40:18\", \"colorhex\": \"#96A2B7\", \"numpixel\": 9442, \"percentage\": 10.491111111111111}, {\"Unnamed: 0\": 5, \"id\": 12, \"datetime\": \"2022:02:09 15:40:18\", \"colorhex\": \"#99A5B9\", \"numpixel\": 9674, \"percentage\": 10.748888888888889}, {\"Unnamed: 0\": 6, \"id\": 12, \"datetime\": \"2022:02:09 15:40:18\", \"colorhex\": \"#9CA9BC\", \"numpixel\": 9953, \"percentage\": 11.05888888888889}, {\"Unnamed: 0\": 7, \"id\": 12, \"datetime\": \"2022:02:09 15:40:18\", \"colorhex\": \"#A0ACBF\", \"numpixel\": 9573, \"percentage\": 10.636666666666668}, {\"Unnamed: 0\": 8, \"id\": 12, \"datetime\": \"2022:02:09 15:40:18\", \"colorhex\": \"#A3AEC1\", \"numpixel\": 8046, \"percentage\": 8.94}, {\"Unnamed: 0\": 9, \"id\": 12, \"datetime\": \"2022:02:09 15:40:18\", \"colorhex\": \"#A7B2C5\", \"numpixel\": 7222, \"percentage\": 8.024444444444443}, {\"Unnamed: 0\": 0, \"id\": 13, \"datetime\": \"2022:02:09 15:40:24\", \"colorhex\": \"#77869B\", \"numpixel\": 7641, \"percentage\": 8.49}, {\"Unnamed: 0\": 1, \"id\": 13, \"datetime\": \"2022:02:09 15:40:24\", \"colorhex\": \"#7D8BA0\", \"numpixel\": 9673, \"percentage\": 10.747777777777776}, {\"Unnamed: 0\": 2, \"id\": 13, \"datetime\": \"2022:02:09 15:40:24\", \"colorhex\": \"#818FA4\", \"numpixel\": 9561, \"percentage\": 10.623333333333331}, {\"Unnamed: 0\": 3, \"id\": 13, \"datetime\": \"2022:02:09 15:40:24\", \"colorhex\": \"#8490A5\", \"numpixel\": 8668, \"percentage\": 9.63111111111111}, {\"Unnamed: 0\": 4, \"id\": 13, \"datetime\": \"2022:02:09 15:40:24\", \"colorhex\": \"#8693A8\", \"numpixel\": 9064, \"percentage\": 10.071111111111112}, {\"Unnamed: 0\": 5, \"id\": 13, \"datetime\": \"2022:02:09 15:40:24\", \"colorhex\": \"#8A96AB\", \"numpixel\": 9315, \"percentage\": 10.35}, {\"Unnamed: 0\": 6, \"id\": 13, \"datetime\": \"2022:02:09 15:40:24\", \"colorhex\": \"#8E9BAF\", \"numpixel\": 10784, \"percentage\": 11.98222222222222}, {\"Unnamed: 0\": 7, \"id\": 13, \"datetime\": \"2022:02:09 15:40:24\", \"colorhex\": \"#93A0B3\", \"numpixel\": 10762, \"percentage\": 11.957777777777778}, {\"Unnamed: 0\": 8, \"id\": 13, \"datetime\": \"2022:02:09 15:40:24\", \"colorhex\": \"#99A5B8\", \"numpixel\": 8455, \"percentage\": 9.394444444444444}, {\"Unnamed: 0\": 9, \"id\": 13, \"datetime\": \"2022:02:09 15:40:24\", \"colorhex\": \"#A0ACBE\", \"numpixel\": 6077, \"percentage\": 6.752222222222222}, {\"Unnamed: 0\": 0, \"id\": 14, \"datetime\": \"2022:02:09 15:40:34\", \"colorhex\": \"#757F90\", \"numpixel\": 7472, \"percentage\": 8.302222222222222}, {\"Unnamed: 0\": 1, \"id\": 14, \"datetime\": \"2022:02:09 15:40:34\", \"colorhex\": \"#788393\", \"numpixel\": 6867, \"percentage\": 7.630000000000001}, {\"Unnamed: 0\": 2, \"id\": 14, \"datetime\": \"2022:02:09 15:40:34\", \"colorhex\": \"#7B8495\", \"numpixel\": 8587, \"percentage\": 9.54111111111111}, {\"Unnamed: 0\": 3, \"id\": 14, \"datetime\": \"2022:02:09 15:40:34\", \"colorhex\": \"#7E8898\", \"numpixel\": 10406, \"percentage\": 11.562222222222225}, {\"Unnamed: 0\": 4, \"id\": 14, \"datetime\": \"2022:02:09 15:40:34\", \"colorhex\": \"#858E9D\", \"numpixel\": 11094, \"percentage\": 12.326666666666666}, {\"Unnamed: 0\": 5, \"id\": 14, \"datetime\": \"2022:02:09 15:40:34\", \"colorhex\": \"#8D96A5\", \"numpixel\": 11742, \"percentage\": 13.046666666666669}, {\"Unnamed: 0\": 6, \"id\": 14, \"datetime\": \"2022:02:09 15:40:34\", \"colorhex\": \"#9AA3B0\", \"numpixel\": 10466, \"percentage\": 11.628888888888888}, {\"Unnamed: 0\": 7, \"id\": 14, \"datetime\": \"2022:02:09 15:40:34\", \"colorhex\": \"#ABB4C0\", \"numpixel\": 9814, \"percentage\": 10.904444444444444}, {\"Unnamed: 0\": 8, \"id\": 14, \"datetime\": \"2022:02:09 15:40:34\", \"colorhex\": \"#BAC2CC\", \"numpixel\": 7422, \"percentage\": 8.246666666666666}, {\"Unnamed: 0\": 9, \"id\": 14, \"datetime\": \"2022:02:09 15:40:34\", \"colorhex\": \"#C6CDD6\", \"numpixel\": 6130, \"percentage\": 6.811111111111111}, {\"Unnamed: 0\": 0, \"id\": 15, \"datetime\": \"2022:02:09 16:21:54\", \"colorhex\": \"#8592A8\", \"numpixel\": 5411, \"percentage\": 6.012222222222222}, {\"Unnamed: 0\": 1, \"id\": 15, \"datetime\": \"2022:02:09 16:21:54\", \"colorhex\": \"#8C99AC\", \"numpixel\": 13504, \"percentage\": 15.004444444444443}, {\"Unnamed: 0\": 2, \"id\": 15, \"datetime\": \"2022:02:09 16:21:54\", \"colorhex\": \"#909CB0\", \"numpixel\": 9687, \"percentage\": 10.763333333333334}, {\"Unnamed: 0\": 3, \"id\": 15, \"datetime\": \"2022:02:09 16:21:54\", \"colorhex\": \"#939EB1\", \"numpixel\": 11442, \"percentage\": 12.713333333333331}, {\"Unnamed: 0\": 4, \"id\": 15, \"datetime\": \"2022:02:09 16:21:54\", \"colorhex\": \"#95A1B4\", \"numpixel\": 8445, \"percentage\": 9.383333333333336}, {\"Unnamed: 0\": 5, \"id\": 15, \"datetime\": \"2022:02:09 16:21:54\", \"colorhex\": \"#97A2B3\", \"numpixel\": 5549, \"percentage\": 6.165555555555556}, {\"Unnamed: 0\": 6, \"id\": 15, \"datetime\": \"2022:02:09 16:21:54\", \"colorhex\": \"#99A4B6\", \"numpixel\": 13112, \"percentage\": 14.568888888888887}, {\"Unnamed: 0\": 7, \"id\": 15, \"datetime\": \"2022:02:09 16:21:54\", \"colorhex\": \"#9EA9B9\", \"numpixel\": 9266, \"percentage\": 10.295555555555556}, {\"Unnamed: 0\": 8, \"id\": 15, \"datetime\": \"2022:02:09 16:21:54\", \"colorhex\": \"#A5B0BF\", \"numpixel\": 9235, \"percentage\": 10.261111111111113}, {\"Unnamed: 0\": 9, \"id\": 15, \"datetime\": \"2022:02:09 16:21:54\", \"colorhex\": \"#B6BFCC\", \"numpixel\": 4349, \"percentage\": 4.832222222222223}, {\"Unnamed: 0\": 0, \"id\": 16, \"datetime\": \"2022:02:09 16:22:00\", \"colorhex\": \"#778497\", \"numpixel\": 9670, \"percentage\": 10.744444444444444}, {\"Unnamed: 0\": 1, \"id\": 16, \"datetime\": \"2022:02:09 16:22:00\", \"colorhex\": \"#808DA0\", \"numpixel\": 8773, \"percentage\": 9.747777777777776}, {\"Unnamed: 0\": 2, \"id\": 16, \"datetime\": \"2022:02:09 16:22:00\", \"colorhex\": \"#8592A6\", \"numpixel\": 9114, \"percentage\": 10.126666666666669}, {\"Unnamed: 0\": 3, \"id\": 16, \"datetime\": \"2022:02:09 16:22:00\", \"colorhex\": \"#8794A8\", \"numpixel\": 7594, \"percentage\": 8.437777777777777}, {\"Unnamed: 0\": 4, \"id\": 16, \"datetime\": \"2022:02:09 16:22:00\", \"colorhex\": \"#8996AA\", \"numpixel\": 8772, \"percentage\": 9.746666666666666}, {\"Unnamed: 0\": 5, \"id\": 16, \"datetime\": \"2022:02:09 16:22:00\", \"colorhex\": \"#8C9AAE\", \"numpixel\": 9277, \"percentage\": 10.307777777777778}, {\"Unnamed: 0\": 6, \"id\": 16, \"datetime\": \"2022:02:09 16:22:00\", \"colorhex\": \"#93A0B5\", \"numpixel\": 12921, \"percentage\": 14.356666666666667}, {\"Unnamed: 0\": 7, \"id\": 16, \"datetime\": \"2022:02:09 16:22:00\", \"colorhex\": \"#99A5BB\", \"numpixel\": 9705, \"percentage\": 10.783333333333331}, {\"Unnamed: 0\": 8, \"id\": 16, \"datetime\": \"2022:02:09 16:22:00\", \"colorhex\": \"#9DA9BF\", \"numpixel\": 8063, \"percentage\": 8.958888888888888}, {\"Unnamed: 0\": 9, \"id\": 16, \"datetime\": \"2022:02:09 16:22:00\", \"colorhex\": \"#A2AEC4\", \"numpixel\": 6111, \"percentage\": 6.79}, {\"Unnamed: 0\": 0, \"id\": 17, \"datetime\": \"2022:02:09 16:22:07\", \"colorhex\": \"#8C99AF\", \"numpixel\": 7353, \"percentage\": 8.17}, {\"Unnamed: 0\": 1, \"id\": 17, \"datetime\": \"2022:02:09 16:22:07\", \"colorhex\": \"#8F9CB1\", \"numpixel\": 10247, \"percentage\": 11.385555555555555}, {\"Unnamed: 0\": 2, \"id\": 17, \"datetime\": \"2022:02:09 16:22:07\", \"colorhex\": \"#929FB4\", \"numpixel\": 11114, \"percentage\": 12.348888888888888}, {\"Unnamed: 0\": 3, \"id\": 17, \"datetime\": \"2022:02:09 16:22:07\", \"colorhex\": \"#94A1B6\", \"numpixel\": 8105, \"percentage\": 9.005555555555556}, {\"Unnamed: 0\": 4, \"id\": 17, \"datetime\": \"2022:02:09 16:22:07\", \"colorhex\": \"#96A3B8\", \"numpixel\": 8476, \"percentage\": 9.417777777777776}, {\"Unnamed: 0\": 5, \"id\": 17, \"datetime\": \"2022:02:09 16:22:07\", \"colorhex\": \"#98A4B9\", \"numpixel\": 5953, \"percentage\": 6.614444444444445}, {\"Unnamed: 0\": 6, \"id\": 17, \"datetime\": \"2022:02:09 16:22:07\", \"colorhex\": \"#9AA6BB\", \"numpixel\": 13519, \"percentage\": 15.02111111111111}, {\"Unnamed: 0\": 7, \"id\": 17, \"datetime\": \"2022:02:09 16:22:07\", \"colorhex\": \"#9DA9BE\", \"numpixel\": 9853, \"percentage\": 10.947777777777777}, {\"Unnamed: 0\": 8, \"id\": 17, \"datetime\": \"2022:02:09 16:22:07\", \"colorhex\": \"#A1ADC2\", \"numpixel\": 9716, \"percentage\": 10.795555555555556}, {\"Unnamed: 0\": 9, \"id\": 17, \"datetime\": \"2022:02:09 16:22:07\", \"colorhex\": \"#A6B2C7\", \"numpixel\": 5664, \"percentage\": 6.293333333333333}, {\"Unnamed: 0\": 0, \"id\": 18, \"datetime\": \"2022:02:09 16:22:17\", \"colorhex\": \"#9CA5B4\", \"numpixel\": 9044, \"percentage\": 10.04888888888889}, {\"Unnamed: 0\": 1, \"id\": 18, \"datetime\": \"2022:02:09 16:22:17\", \"colorhex\": \"#A2ACBD\", \"numpixel\": 10991, \"percentage\": 12.212222222222222}, {\"Unnamed: 0\": 2, \"id\": 18, \"datetime\": \"2022:02:09 16:22:17\", \"colorhex\": \"#A6B1C2\", \"numpixel\": 9259, \"percentage\": 10.287777777777778}, {\"Unnamed: 0\": 3, \"id\": 18, \"datetime\": \"2022:02:09 16:22:17\", \"colorhex\": \"#AAB3C2\", \"numpixel\": 5861, \"percentage\": 6.512222222222222}, {\"Unnamed: 0\": 4, \"id\": 18, \"datetime\": \"2022:02:09 16:22:17\", \"colorhex\": \"#ABB4C5\", \"numpixel\": 8027, \"percentage\": 8.918888888888889}, {\"Unnamed: 0\": 5, \"id\": 18, \"datetime\": \"2022:02:09 16:22:17\", \"colorhex\": \"#ADB7C7\", \"numpixel\": 10362, \"percentage\": 11.513333333333334}, {\"Unnamed: 0\": 6, \"id\": 18, \"datetime\": \"2022:02:09 16:22:17\", \"colorhex\": \"#B1BACB\", \"numpixel\": 11914, \"percentage\": 13.23777777777778}, {\"Unnamed: 0\": 7, \"id\": 18, \"datetime\": \"2022:02:09 16:22:17\", \"colorhex\": \"#B5BFCF\", \"numpixel\": 10020, \"percentage\": 11.133333333333336}, {\"Unnamed: 0\": 8, \"id\": 18, \"datetime\": \"2022:02:09 16:22:17\", \"colorhex\": \"#BAC3D4\", \"numpixel\": 8497, \"percentage\": 9.44111111111111}, {\"Unnamed: 0\": 9, \"id\": 18, \"datetime\": \"2022:02:09 16:22:17\", \"colorhex\": \"#C1CADA\", \"numpixel\": 6025, \"percentage\": 6.694444444444445}, {\"Unnamed: 0\": 0, \"id\": 19, \"datetime\": \"2022:02:09 16:22:23\", \"colorhex\": \"#B2B8BF\", \"numpixel\": 5576, \"percentage\": 6.195555555555556}, {\"Unnamed: 0\": 1, \"id\": 19, \"datetime\": \"2022:02:09 16:22:23\", \"colorhex\": \"#B5BCC4\", \"numpixel\": 8248, \"percentage\": 9.164444444444444}, {\"Unnamed: 0\": 2, \"id\": 19, \"datetime\": \"2022:02:09 16:22:23\", \"colorhex\": \"#B8BDC4\", \"numpixel\": 6633, \"percentage\": 7.37}, {\"Unnamed: 0\": 3, \"id\": 19, \"datetime\": \"2022:02:09 16:22:23\", \"colorhex\": \"#BBC1C7\", \"numpixel\": 9763, \"percentage\": 10.84777777777778}, {\"Unnamed: 0\": 4, \"id\": 19, \"datetime\": \"2022:02:09 16:22:23\", \"colorhex\": \"#BFC5CB\", \"numpixel\": 7305, \"percentage\": 8.116666666666667}, {\"Unnamed: 0\": 5, \"id\": 19, \"datetime\": \"2022:02:09 16:22:23\", \"colorhex\": \"#C4C9CE\", \"numpixel\": 8252, \"percentage\": 9.168888888888889}, {\"Unnamed: 0\": 6, \"id\": 19, \"datetime\": \"2022:02:09 16:22:23\", \"colorhex\": \"#CBD0D4\", \"numpixel\": 9848, \"percentage\": 10.942222222222222}, {\"Unnamed: 0\": 7, \"id\": 19, \"datetime\": \"2022:02:09 16:22:23\", \"colorhex\": \"#D6DADD\", \"numpixel\": 10622, \"percentage\": 11.802222222222222}, {\"Unnamed: 0\": 8, \"id\": 19, \"datetime\": \"2022:02:09 16:22:23\", \"colorhex\": \"#E3E6E7\", \"numpixel\": 11838, \"percentage\": 13.153333333333334}, {\"Unnamed: 0\": 9, \"id\": 19, \"datetime\": \"2022:02:09 16:22:23\", \"colorhex\": \"#F0F2F1\", \"numpixel\": 11915, \"percentage\": 13.238888888888887}, {\"Unnamed: 0\": 0, \"id\": 20, \"datetime\": \"2022:02:09 16:22:31\", \"colorhex\": \"#96A9CD\", \"numpixel\": 6345, \"percentage\": 7.049999999999999}, {\"Unnamed: 0\": 1, \"id\": 20, \"datetime\": \"2022:02:09 16:22:31\", \"colorhex\": \"#99ADD1\", \"numpixel\": 12152, \"percentage\": 13.50222222222222}, {\"Unnamed: 0\": 2, \"id\": 20, \"datetime\": \"2022:02:09 16:22:31\", \"colorhex\": \"#9CB0D4\", \"numpixel\": 10507, \"percentage\": 11.674444444444443}, {\"Unnamed: 0\": 3, \"id\": 20, \"datetime\": \"2022:02:09 16:22:31\", \"colorhex\": \"#9FB1D4\", \"numpixel\": 7125, \"percentage\": 7.916666666666666}, {\"Unnamed: 0\": 4, \"id\": 20, \"datetime\": \"2022:02:09 16:22:31\", \"colorhex\": \"#A1B4D6\", \"numpixel\": 9073, \"percentage\": 10.081111111111111}, {\"Unnamed: 0\": 5, \"id\": 20, \"datetime\": \"2022:02:09 16:22:31\", \"colorhex\": \"#A2B6D9\", \"numpixel\": 8637, \"percentage\": 9.596666666666668}, {\"Unnamed: 0\": 6, \"id\": 20, \"datetime\": \"2022:02:09 16:22:31\", \"colorhex\": \"#A6B8D9\", \"numpixel\": 9946, \"percentage\": 11.051111111111112}, {\"Unnamed: 0\": 7, \"id\": 20, \"datetime\": \"2022:02:09 16:22:31\", \"colorhex\": \"#A9BBDC\", \"numpixel\": 9503, \"percentage\": 10.55888888888889}, {\"Unnamed: 0\": 8, \"id\": 20, \"datetime\": \"2022:02:09 16:22:31\", \"colorhex\": \"#ACBEDE\", \"numpixel\": 11182, \"percentage\": 12.424444444444443}, {\"Unnamed: 0\": 9, \"id\": 20, \"datetime\": \"2022:02:09 16:22:31\", \"colorhex\": \"#B5C5E3\", \"numpixel\": 5530, \"percentage\": 6.144444444444445}, {\"Unnamed: 0\": 0, \"id\": 21, \"datetime\": \"2022:02:10 16:15:58\", \"colorhex\": \"#7D8DA3\", \"numpixel\": 8249, \"percentage\": 9.165555555555557}, {\"Unnamed: 0\": 1, \"id\": 21, \"datetime\": \"2022:02:10 16:15:58\", \"colorhex\": \"#8191AA\", \"numpixel\": 8368, \"percentage\": 9.297777777777778}, {\"Unnamed: 0\": 2, \"id\": 21, \"datetime\": \"2022:02:10 16:15:58\", \"colorhex\": \"#8294B1\", \"numpixel\": 11286, \"percentage\": 12.54}, {\"Unnamed: 0\": 3, \"id\": 21, \"datetime\": \"2022:02:10 16:15:58\", \"colorhex\": \"#8595AC\", \"numpixel\": 7392, \"percentage\": 8.213333333333333}, {\"Unnamed: 0\": 4, \"id\": 21, \"datetime\": \"2022:02:10 16:15:58\", \"colorhex\": \"#8798B3\", \"numpixel\": 8727, \"percentage\": 9.696666666666667}, {\"Unnamed: 0\": 5, \"id\": 21, \"datetime\": \"2022:02:10 16:15:58\", \"colorhex\": \"#8B9BB6\", \"numpixel\": 9719, \"percentage\": 10.798888888888888}, {\"Unnamed: 0\": 6, \"id\": 21, \"datetime\": \"2022:02:10 16:15:58\", \"colorhex\": \"#909FB7\", \"numpixel\": 8536, \"percentage\": 9.484444444444444}, {\"Unnamed: 0\": 7, \"id\": 21, \"datetime\": \"2022:02:10 16:15:58\", \"colorhex\": \"#93A3BC\", \"numpixel\": 12577, \"percentage\": 13.974444444444444}, {\"Unnamed: 0\": 8, \"id\": 21, \"datetime\": \"2022:02:10 16:15:58\", \"colorhex\": \"#96A5BE\", \"numpixel\": 8492, \"percentage\": 9.435555555555556}, {\"Unnamed: 0\": 9, \"id\": 21, \"datetime\": \"2022:02:10 16:15:58\", \"colorhex\": \"#9AAAC2\", \"numpixel\": 6654, \"percentage\": 7.393333333333333}, {\"Unnamed: 0\": 0, \"id\": 22, \"datetime\": \"2022:02:10 16:16:04\", \"colorhex\": \"#6B81A4\", \"numpixel\": 8019, \"percentage\": 8.91}, {\"Unnamed: 0\": 1, \"id\": 22, \"datetime\": \"2022:02:10 16:16:04\", \"colorhex\": \"#6D85AA\", \"numpixel\": 8077, \"percentage\": 8.974444444444444}, {\"Unnamed: 0\": 2, \"id\": 22, \"datetime\": \"2022:02:10 16:16:04\", \"colorhex\": \"#7187A8\", \"numpixel\": 6732, \"percentage\": 7.48}, {\"Unnamed: 0\": 3, \"id\": 22, \"datetime\": \"2022:02:10 16:16:04\", \"colorhex\": \"#748BAE\", \"numpixel\": 8418, \"percentage\": 9.353333333333332}, {\"Unnamed: 0\": 4, \"id\": 22, \"datetime\": \"2022:02:10 16:16:04\", \"colorhex\": \"#7A8FAF\", \"numpixel\": 13134, \"percentage\": 14.593333333333334}, {\"Unnamed: 0\": 5, \"id\": 22, \"datetime\": \"2022:02:10 16:16:04\", \"colorhex\": \"#7E93B3\", \"numpixel\": 10471, \"percentage\": 11.634444444444444}, {\"Unnamed: 0\": 6, \"id\": 22, \"datetime\": \"2022:02:10 16:16:04\", \"colorhex\": \"#879CBB\", \"numpixel\": 11206, \"percentage\": 12.45111111111111}, {\"Unnamed: 0\": 7, \"id\": 22, \"datetime\": \"2022:02:10 16:16:04\", \"colorhex\": \"#92A6C5\", \"numpixel\": 7389, \"percentage\": 8.21}, {\"Unnamed: 0\": 8, \"id\": 22, \"datetime\": \"2022:02:10 16:16:04\", \"colorhex\": \"#98ABCA\", \"numpixel\": 10598, \"percentage\": 11.775555555555556}, {\"Unnamed: 0\": 9, \"id\": 22, \"datetime\": \"2022:02:10 16:16:04\", \"colorhex\": \"#9DB0CD\", \"numpixel\": 5956, \"percentage\": 6.617777777777778}, {\"Unnamed: 0\": 0, \"id\": 23, \"datetime\": \"2022:02:10 16:16:10\", \"colorhex\": \"#ADBCD9\", \"numpixel\": 9456, \"percentage\": 10.506666666666668}, {\"Unnamed: 0\": 1, \"id\": 23, \"datetime\": \"2022:02:10 16:16:10\", \"colorhex\": \"#AFBFDB\", \"numpixel\": 6623, \"percentage\": 7.358888888888888}, {\"Unnamed: 0\": 2, \"id\": 23, \"datetime\": \"2022:02:10 16:16:10\", \"colorhex\": \"#B2C2DD\", \"numpixel\": 9654, \"percentage\": 10.726666666666668}, {\"Unnamed: 0\": 3, \"id\": 23, \"datetime\": \"2022:02:10 16:16:10\", \"colorhex\": \"#B3C3DE\", \"numpixel\": 6681, \"percentage\": 7.423333333333333}, {\"Unnamed: 0\": 4, \"id\": 23, \"datetime\": \"2022:02:10 16:16:10\", \"colorhex\": \"#B4C4DF\", \"numpixel\": 10904, \"percentage\": 12.115555555555556}, {\"Unnamed: 0\": 5, \"id\": 23, \"datetime\": \"2022:02:10 16:16:10\", \"colorhex\": \"#B5C5E0\", \"numpixel\": 12138, \"percentage\": 13.486666666666666}, {\"Unnamed: 0\": 6, \"id\": 23, \"datetime\": \"2022:02:10 16:16:10\", \"colorhex\": \"#B6C6E0\", \"numpixel\": 9350, \"percentage\": 10.38888888888889}, {\"Unnamed: 0\": 7, \"id\": 23, \"datetime\": \"2022:02:10 16:16:10\", \"colorhex\": \"#B8C7E1\", \"numpixel\": 9663, \"percentage\": 10.736666666666666}, {\"Unnamed: 0\": 8, \"id\": 23, \"datetime\": \"2022:02:10 16:16:10\", \"colorhex\": \"#B9C8E1\", \"numpixel\": 6926, \"percentage\": 7.695555555555556}, {\"Unnamed: 0\": 9, \"id\": 23, \"datetime\": \"2022:02:10 16:16:10\", \"colorhex\": \"#BCCBE2\", \"numpixel\": 8605, \"percentage\": 9.56111111111111}, {\"Unnamed: 0\": 0, \"id\": 24, \"datetime\": \"2022:02:10 16:16:17\", \"colorhex\": \"#627695\", \"numpixel\": 8830, \"percentage\": 9.81111111111111}, {\"Unnamed: 0\": 1, \"id\": 24, \"datetime\": \"2022:02:10 16:16:17\", \"colorhex\": \"#798BA7\", \"numpixel\": 12275, \"percentage\": 13.63888888888889}, {\"Unnamed: 0\": 2, \"id\": 24, \"datetime\": \"2022:02:10 16:16:17\", \"colorhex\": \"#8093B0\", \"numpixel\": 9794, \"percentage\": 10.882222222222222}, {\"Unnamed: 0\": 3, \"id\": 24, \"datetime\": \"2022:02:10 16:16:17\", \"colorhex\": \"#8296B5\", \"numpixel\": 6787, \"percentage\": 7.541111111111111}, {\"Unnamed: 0\": 4, \"id\": 24, \"datetime\": \"2022:02:10 16:16:17\", \"colorhex\": \"#8598B6\", \"numpixel\": 7491, \"percentage\": 8.323333333333334}, {\"Unnamed: 0\": 5, \"id\": 24, \"datetime\": \"2022:02:10 16:16:17\", \"colorhex\": \"#899BB9\", \"numpixel\": 9069, \"percentage\": 10.076666666666668}, {\"Unnamed: 0\": 6, \"id\": 24, \"datetime\": \"2022:02:10 16:16:17\", \"colorhex\": \"#8EA0BD\", \"numpixel\": 12076, \"percentage\": 13.41777777777778}, {\"Unnamed: 0\": 7, \"id\": 24, \"datetime\": \"2022:02:10 16:16:17\", \"colorhex\": \"#94A6C1\", \"numpixel\": 10387, \"percentage\": 11.541111111111112}, {\"Unnamed: 0\": 8, \"id\": 24, \"datetime\": \"2022:02:10 16:16:17\", \"colorhex\": \"#A0B0C9\", \"numpixel\": 6253, \"percentage\": 6.947777777777778}, {\"Unnamed: 0\": 9, \"id\": 24, \"datetime\": \"2022:02:10 16:16:17\", \"colorhex\": \"#A8B7CE\", \"numpixel\": 7038, \"percentage\": 7.82}, {\"Unnamed: 0\": 0, \"id\": 25, \"datetime\": \"2022:02:10 16:16:34\", \"colorhex\": \"#5E7290\", \"numpixel\": 9222, \"percentage\": 10.246666666666666}, {\"Unnamed: 0\": 1, \"id\": 25, \"datetime\": \"2022:02:10 16:16:34\", \"colorhex\": \"#7B8CA6\", \"numpixel\": 11249, \"percentage\": 12.498888888888889}, {\"Unnamed: 0\": 2, \"id\": 25, \"datetime\": \"2022:02:10 16:16:34\", \"colorhex\": \"#8193B0\", \"numpixel\": 7502, \"percentage\": 8.335555555555556}, {\"Unnamed: 0\": 3, \"id\": 25, \"datetime\": \"2022:02:10 16:16:34\", \"colorhex\": \"#8595AD\", \"numpixel\": 6581, \"percentage\": 7.312222222222223}, {\"Unnamed: 0\": 4, \"id\": 25, \"datetime\": \"2022:02:10 16:16:34\", \"colorhex\": \"#8798B4\", \"numpixel\": 9947, \"percentage\": 11.052222222222222}, {\"Unnamed: 0\": 5, \"id\": 25, \"datetime\": \"2022:02:10 16:16:34\", \"colorhex\": \"#899BB8\", \"numpixel\": 11203, \"percentage\": 12.447777777777778}, {\"Unnamed: 0\": 6, \"id\": 25, \"datetime\": \"2022:02:10 16:16:34\", \"colorhex\": \"#90A0B9\", \"numpixel\": 9937, \"percentage\": 11.04111111111111}, {\"Unnamed: 0\": 7, \"id\": 25, \"datetime\": \"2022:02:10 16:16:34\", \"colorhex\": \"#98A7C0\", \"numpixel\": 10207, \"percentage\": 11.341111111111111}, {\"Unnamed: 0\": 8, \"id\": 25, \"datetime\": \"2022:02:10 16:16:34\", \"colorhex\": \"#9DACC4\", \"numpixel\": 8120, \"percentage\": 9.022222222222222}, {\"Unnamed: 0\": 9, \"id\": 25, \"datetime\": \"2022:02:10 16:16:34\", \"colorhex\": \"#A3B2C7\", \"numpixel\": 6032, \"percentage\": 6.702222222222222}, {\"Unnamed: 0\": 0, \"id\": 26, \"datetime\": \"2022:02:10 17:40:11\", \"colorhex\": \"#93989C\", \"numpixel\": 6939, \"percentage\": 7.71}, {\"Unnamed: 0\": 1, \"id\": 26, \"datetime\": \"2022:02:10 17:40:11\", \"colorhex\": \"#9EA3A7\", \"numpixel\": 10155, \"percentage\": 11.283333333333331}, {\"Unnamed: 0\": 2, \"id\": 26, \"datetime\": \"2022:02:10 17:40:11\", \"colorhex\": \"#A3A8AC\", \"numpixel\": 8382, \"percentage\": 9.313333333333333}, {\"Unnamed: 0\": 3, \"id\": 26, \"datetime\": \"2022:02:10 17:40:11\", \"colorhex\": \"#A9ADB3\", \"numpixel\": 11776, \"percentage\": 13.084444444444443}, {\"Unnamed: 0\": 4, \"id\": 26, \"datetime\": \"2022:02:10 17:40:11\", \"colorhex\": \"#AAB0B5\", \"numpixel\": 8683, \"percentage\": 9.647777777777778}, {\"Unnamed: 0\": 5, \"id\": 26, \"datetime\": \"2022:02:10 17:40:11\", \"colorhex\": \"#ACB0B5\", \"numpixel\": 7671, \"percentage\": 8.523333333333333}, {\"Unnamed: 0\": 6, \"id\": 26, \"datetime\": \"2022:02:10 17:40:11\", \"colorhex\": \"#ADB1B7\", \"numpixel\": 10146, \"percentage\": 11.273333333333332}, {\"Unnamed: 0\": 7, \"id\": 26, \"datetime\": \"2022:02:10 17:40:11\", \"colorhex\": \"#AEB4B9\", \"numpixel\": 10346, \"percentage\": 11.495555555555557}, {\"Unnamed: 0\": 8, \"id\": 26, \"datetime\": \"2022:02:10 17:40:11\", \"colorhex\": \"#B1B7BC\", \"numpixel\": 9005, \"percentage\": 10.005555555555556}, {\"Unnamed: 0\": 9, \"id\": 26, \"datetime\": \"2022:02:10 17:40:11\", \"colorhex\": \"#B6BDC3\", \"numpixel\": 6897, \"percentage\": 7.663333333333333}, {\"Unnamed: 0\": 0, \"id\": 27, \"datetime\": \"2022:02:10 17:40:17\", \"colorhex\": \"#8F9497\", \"numpixel\": 8120, \"percentage\": 9.022222222222222}, {\"Unnamed: 0\": 1, \"id\": 27, \"datetime\": \"2022:02:10 17:40:17\", \"colorhex\": \"#989DA0\", \"numpixel\": 11178, \"percentage\": 12.42}, {\"Unnamed: 0\": 2, \"id\": 27, \"datetime\": \"2022:02:10 17:40:17\", \"colorhex\": \"#9BA0A3\", \"numpixel\": 8861, \"percentage\": 9.845555555555556}, {\"Unnamed: 0\": 3, \"id\": 27, \"datetime\": \"2022:02:10 17:40:17\", \"colorhex\": \"#9DA2A5\", \"numpixel\": 7487, \"percentage\": 8.318888888888889}, {\"Unnamed: 0\": 4, \"id\": 27, \"datetime\": \"2022:02:10 17:40:17\", \"colorhex\": \"#A0A4A8\", \"numpixel\": 7440, \"percentage\": 8.266666666666666}, {\"Unnamed: 0\": 5, \"id\": 27, \"datetime\": \"2022:02:10 17:40:17\", \"colorhex\": \"#A3A7AB\", \"numpixel\": 8251, \"percentage\": 9.167777777777776}, {\"Unnamed: 0\": 6, \"id\": 27, \"datetime\": \"2022:02:10 17:40:17\", \"colorhex\": \"#A6AAAF\", \"numpixel\": 10339, \"percentage\": 11.487777777777778}, {\"Unnamed: 0\": 7, \"id\": 27, \"datetime\": \"2022:02:10 17:40:17\", \"colorhex\": \"#A8ACB1\", \"numpixel\": 11909, \"percentage\": 13.232222222222225}, {\"Unnamed: 0\": 8, \"id\": 27, \"datetime\": \"2022:02:10 17:40:17\", \"colorhex\": \"#A9AEB2\", \"numpixel\": 7324, \"percentage\": 8.137777777777778}, {\"Unnamed: 0\": 9, \"id\": 27, \"datetime\": \"2022:02:10 17:40:17\", \"colorhex\": \"#AAB0B4\", \"numpixel\": 9091, \"percentage\": 10.101111111111113}, {\"Unnamed: 0\": 0, \"id\": 28, \"datetime\": \"2022:02:10 17:40:31\", \"colorhex\": \"#93979A\", \"numpixel\": 9000, \"percentage\": 10.0}, {\"Unnamed: 0\": 1, \"id\": 28, \"datetime\": \"2022:02:10 17:40:31\", \"colorhex\": \"#999DA1\", \"numpixel\": 11540, \"percentage\": 12.82222222222222}, {\"Unnamed: 0\": 2, \"id\": 28, \"datetime\": \"2022:02:10 17:40:31\", \"colorhex\": \"#A0A4A7\", \"numpixel\": 9536, \"percentage\": 10.595555555555556}, {\"Unnamed: 0\": 3, \"id\": 28, \"datetime\": \"2022:02:10 17:40:31\", \"colorhex\": \"#A7ABAE\", \"numpixel\": 11627, \"percentage\": 12.918888888888889}, {\"Unnamed: 0\": 4, \"id\": 28, \"datetime\": \"2022:02:10 17:40:31\", \"colorhex\": \"#ACB0B3\", \"numpixel\": 9291, \"percentage\": 10.323333333333332}, {\"Unnamed: 0\": 5, \"id\": 28, \"datetime\": \"2022:02:10 17:40:31\", \"colorhex\": \"#AFB0B5\", \"numpixel\": 5957, \"percentage\": 6.61888888888889}, {\"Unnamed: 0\": 6, \"id\": 28, \"datetime\": \"2022:02:10 17:40:31\", \"colorhex\": \"#B0B3B7\", \"numpixel\": 8341, \"percentage\": 9.267777777777775}, {\"Unnamed: 0\": 7, \"id\": 28, \"datetime\": \"2022:02:10 17:40:31\", \"colorhex\": \"#B0B4B8\", \"numpixel\": 6852, \"percentage\": 7.613333333333333}, {\"Unnamed: 0\": 8, \"id\": 28, \"datetime\": \"2022:02:10 17:40:31\", \"colorhex\": \"#B1B5BA\", \"numpixel\": 10284, \"percentage\": 11.426666666666668}, {\"Unnamed: 0\": 9, \"id\": 28, \"datetime\": \"2022:02:10 17:40:31\", \"colorhex\": \"#B3B7BB\", \"numpixel\": 7572, \"percentage\": 8.413333333333334}, {\"Unnamed: 0\": 0, \"id\": 29, \"datetime\": \"2022:02:10 17:40:34\", \"colorhex\": \"#9C9FA1\", \"numpixel\": 6006, \"percentage\": 6.673333333333334}, {\"Unnamed: 0\": 1, \"id\": 29, \"datetime\": \"2022:02:10 17:40:34\", \"colorhex\": \"#A1A4A8\", \"numpixel\": 12830, \"percentage\": 14.255555555555556}, {\"Unnamed: 0\": 2, \"id\": 29, \"datetime\": \"2022:02:10 17:40:34\", \"colorhex\": \"#A4A7AA\", \"numpixel\": 11726, \"percentage\": 13.02888888888889}, {\"Unnamed: 0\": 3, \"id\": 29, \"datetime\": \"2022:02:10 17:40:34\", \"colorhex\": \"#A7A9AD\", \"numpixel\": 11553, \"percentage\": 12.836666666666666}, {\"Unnamed: 0\": 4, \"id\": 29, \"datetime\": \"2022:02:10 17:40:34\", \"colorhex\": \"#AAADB1\", \"numpixel\": 10440, \"percentage\": 11.6}, {\"Unnamed: 0\": 5, \"id\": 29, \"datetime\": \"2022:02:10 17:40:34\", \"colorhex\": \"#ADAEB2\", \"numpixel\": 5897, \"percentage\": 6.5522222222222215}, {\"Unnamed: 0\": 6, \"id\": 29, \"datetime\": \"2022:02:10 17:40:34\", \"colorhex\": \"#AEB1B4\", \"numpixel\": 8496, \"percentage\": 9.44}, {\"Unnamed: 0\": 7, \"id\": 29, \"datetime\": \"2022:02:10 17:40:34\", \"colorhex\": \"#B0B3B7\", \"numpixel\": 7536, \"percentage\": 8.373333333333335}, {\"Unnamed: 0\": 8, \"id\": 29, \"datetime\": \"2022:02:10 17:40:34\", \"colorhex\": \"#B2B5B9\", \"numpixel\": 8621, \"percentage\": 9.578888888888889}, {\"Unnamed: 0\": 9, \"id\": 29, \"datetime\": \"2022:02:10 17:40:34\", \"colorhex\": \"#B3B7BA\", \"numpixel\": 6895, \"percentage\": 7.661111111111111}, {\"Unnamed: 0\": 0, \"id\": 30, \"datetime\": \"2022:02:10 17:40:43\", \"colorhex\": \"#83888A\", \"numpixel\": 7220, \"percentage\": 8.022222222222222}, {\"Unnamed: 0\": 1, \"id\": 30, \"datetime\": \"2022:02:10 17:40:43\", \"colorhex\": \"#8D9193\", \"numpixel\": 13269, \"percentage\": 14.743333333333334}, {\"Unnamed: 0\": 2, \"id\": 30, \"datetime\": \"2022:02:10 17:40:43\", \"colorhex\": \"#929698\", \"numpixel\": 10133, \"percentage\": 11.258888888888889}, {\"Unnamed: 0\": 3, \"id\": 30, \"datetime\": \"2022:02:10 17:40:43\", \"colorhex\": \"#969B9E\", \"numpixel\": 6986, \"percentage\": 7.762222222222221}, {\"Unnamed: 0\": 4, \"id\": 30, \"datetime\": \"2022:02:10 17:40:43\", \"colorhex\": \"#999DA0\", \"numpixel\": 6502, \"percentage\": 7.224444444444444}, {\"Unnamed: 0\": 5, \"id\": 30, \"datetime\": \"2022:02:10 17:40:43\", \"colorhex\": \"#9BA0A4\", \"numpixel\": 11951, \"percentage\": 13.27888888888889}, {\"Unnamed: 0\": 6, \"id\": 30, \"datetime\": \"2022:02:10 17:40:43\", \"colorhex\": \"#9FA3A7\", \"numpixel\": 11406, \"percentage\": 12.673333333333334}, {\"Unnamed: 0\": 7, \"id\": 30, \"datetime\": \"2022:02:10 17:40:43\", \"colorhex\": \"#A5AAAE\", \"numpixel\": 6976, \"percentage\": 7.751111111111111}, {\"Unnamed: 0\": 8, \"id\": 30, \"datetime\": \"2022:02:10 17:40:43\", \"colorhex\": \"#A8AEB3\", \"numpixel\": 9488, \"percentage\": 10.542222222222222}, {\"Unnamed: 0\": 9, \"id\": 30, \"datetime\": \"2022:02:10 17:40:43\", \"colorhex\": \"#AEB1B5\", \"numpixel\": 6069, \"percentage\": 6.743333333333333}]}}, {\"mode\": \"vega-lite\"});\n",
       "</script>"
      ],
      "text/plain": [
       "alt.Chart(...)"
      ]
     },
     "execution_count": 12,
     "metadata": {},
     "output_type": "execute_result"
    }
   ],
   "source": [
    "chart = alt.Chart(df1).mark_bar().encode(\n",
    "    x=alt.X('datetime:O', axis=None),\n",
    "    y=alt.Y('percentage:Q', axis=None),\n",
    "    color=alt.Color(\n",
    "        'colorhex',\n",
    "        scale = alt.Scale(\n",
    "            domain = df1['colorhex'].to_numpy(),\n",
    "            range = df1['colorhex'].to_numpy()\n",
    "        ),\n",
    "        legend = None\n",
    "    )\n",
    ").properties(width=1200, height=600)\n",
    "chart"
   ]
  }
 ],
 "metadata": {
  "colab": {
   "collapsed_sections": [],
   "name": "calculate df for processed photos.ipynb",
   "provenance": []
  },
  "kernelspec": {
   "display_name": "Python 3 (ipykernel)",
   "language": "python",
   "name": "python3"
  },
  "language_info": {
   "codemirror_mode": {
    "name": "ipython",
    "version": 3
   },
   "file_extension": ".py",
   "mimetype": "text/x-python",
   "name": "python",
   "nbconvert_exporter": "python",
   "pygments_lexer": "ipython3",
   "version": "3.10.10"
  },
  "vscode": {
   "interpreter": {
    "hash": "31f2aee4e71d21fbe5cf8b01ff0e069b9275f58929596ceb00d14d90e3e16cd6"
   }
  }
 },
 "nbformat": 4,
 "nbformat_minor": 1
}
